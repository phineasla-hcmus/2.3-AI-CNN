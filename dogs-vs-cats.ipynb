{
 "cells": [
  {
   "cell_type": "markdown",
   "id": "449c822c",
   "metadata": {
    "id": "YYTd9J7sLxuz",
    "papermill": {
     "duration": 0.013843,
     "end_time": "2021-08-23T12:31:54.313335",
     "exception": false,
     "start_time": "2021-08-23T12:31:54.299492",
     "status": "completed"
    },
    "tags": []
   },
   "source": [
    "# Imports and Constants"
   ]
  },
  {
   "cell_type": "code",
   "execution_count": 1,
   "id": "452794e1",
   "metadata": {
    "execution": {
     "iopub.execute_input": "2021-08-23T12:31:54.352574Z",
     "iopub.status.busy": "2021-08-23T12:31:54.351763Z",
     "iopub.status.idle": "2021-08-23T12:31:55.308500Z",
     "shell.execute_reply": "2021-08-23T12:31:55.309030Z",
     "shell.execute_reply.started": "2021-08-23T10:47:03.432547Z"
    },
    "id": "S9zD7LLDLxu0",
    "papermill": {
     "duration": 0.983083,
     "end_time": "2021-08-23T12:31:55.309278",
     "exception": false,
     "start_time": "2021-08-23T12:31:54.326195",
     "status": "completed"
    },
    "tags": []
   },
   "outputs": [],
   "source": [
    "import os\n",
    "import random\n",
    "import numpy as np\n",
    "import pandas as pd\n",
    "from sklearn import model_selection\n",
    "from matplotlib import pyplot as plt\n",
    "\n",
    "import PIL\n",
    "# https://github.com/tensorflow/tensorflow/issues/46840\n",
    "# https://stackoverflow.com/a/68239032/12405558\n",
    "if PIL.__version__ == \"8.3.0\":\n",
    "    raise ImportError(f\"PIL 8.3.0 is incompatible with tensorflow 2.6.0\")\n",
    "    \n",
    "abspath_join = lambda a, *p: os.path.abspath(os.path.join(a, *p))\n",
    "\n",
    "BASE_DATA_DIR = \"/data\"\n",
    "TRAIN_DIR = os.path.join(BASE_DATA_DIR, \"train\")\n",
    "TEST_DIR = os.path.join(BASE_DATA_DIR, \"test\")\n",
    "\n",
    "IMG_WIDTH = 128\n",
    "IMG_HEIGHT = 128\n",
    "IMG_CHANNEL = 3\n",
    "IMG_SIZE = (IMG_WIDTH, IMG_HEIGHT)\n",
    "IMG_SHAPE = (IMG_WIDTH, IMG_HEIGHT, IMG_CHANNEL)\n",
    "\n",
    "# Split training into training and validation dataset\n",
    "VALIDATION_SIZE = 0.2\n",
    "\n",
    "BATCH_SIZE = 20\n",
    "EPOCHS = 10\n",
    "\n",
    "TYPE = {\"cat\": 0, \"dog\": 1}\n"
   ]
  },
  {
   "cell_type": "markdown",
   "id": "5d3c93ee",
   "metadata": {
    "id": "x9kqQ3DILxu0",
    "papermill": {
     "duration": 0.018595,
     "end_time": "2021-08-23T12:31:55.346607",
     "exception": false,
     "start_time": "2021-08-23T12:31:55.328012",
     "status": "completed"
    },
    "tags": []
   },
   "source": [
    "# Prepare Training Data"
   ]
  },
  {
   "cell_type": "markdown",
   "id": "11019465",
   "metadata": {
    "id": "olZh5ccyYSXs",
    "papermill": {
     "duration": 0.01248,
     "end_time": "2021-08-23T12:31:55.373352",
     "exception": false,
     "start_time": "2021-08-23T12:31:55.360872",
     "status": "completed"
    },
    "tags": []
   },
   "source": [
    "## Setup for Google Colab"
   ]
  },
  {
   "cell_type": "code",
   "execution_count": 2,
   "id": "4a3b4178",
   "metadata": {
    "execution": {
     "iopub.execute_input": "2021-08-23T12:31:55.405092Z",
     "iopub.status.busy": "2021-08-23T12:31:55.404455Z",
     "iopub.status.idle": "2021-08-23T12:31:55.407266Z",
     "shell.execute_reply": "2021-08-23T12:31:55.406875Z",
     "shell.execute_reply.started": "2021-08-23T10:47:04.269259Z"
    },
    "id": "EPYAUk3HYXr4",
    "outputId": "e472a80d-4714-44db-a666-a716581f686a",
    "papermill": {
     "duration": 0.021374,
     "end_time": "2021-08-23T12:31:55.407371",
     "exception": false,
     "start_time": "2021-08-23T12:31:55.385997",
     "status": "completed"
    },
    "tags": []
   },
   "outputs": [],
   "source": [
    "try:\n",
    "    from google.colab import drive\n",
    "    from zipfile import ZipFile\n",
    "    \n",
    "    MOUNT = \"/content/drive\"\n",
    "    drive.mount(MOUNT, force_remount=True)\n",
    "\n",
    "    BASE_DATA_DIR = abspath_join(MOUNT, \"MyDrive/AI/data\")\n",
    "    TRAIN_DIR = abspath_join(BASE_DATA_DIR, \"train\")\n",
    "    TEST_DIR = abspath_join(BASE_DATA_DIR, \"test1\")\n",
    "    for zip_name in (\"test1.zip\",\"train.zip\"):\n",
    "        try:\n",
    "            zip_dir = abspath_join(BASE_DATA_DIR, zip_name)\n",
    "            # with ZipFile(zip_dir, \"r\") as zip_ref:\n",
    "            #     print(f\"Unzipping {zip_name}\")\n",
    "            #     zip_ref.extractall(BASE_DATA_DIR)\n",
    "            # os.remove(zip_dir)\n",
    "        except:\n",
    "            print(f\"{zip_name} not found\")\n",
    "except ImportError:\n",
    "    pass"
   ]
  },
  {
   "cell_type": "markdown",
   "id": "944cc09a",
   "metadata": {
    "papermill": {
     "duration": 0.01246,
     "end_time": "2021-08-23T12:31:55.432418",
     "exception": false,
     "start_time": "2021-08-23T12:31:55.419958",
     "status": "completed"
    },
    "tags": []
   },
   "source": [
    "## Setup for Kaggle"
   ]
  },
  {
   "cell_type": "code",
   "execution_count": 3,
   "id": "56681711",
   "metadata": {
    "execution": {
     "iopub.execute_input": "2021-08-23T12:31:55.462940Z",
     "iopub.status.busy": "2021-08-23T12:31:55.462373Z",
     "iopub.status.idle": "2021-08-23T12:32:10.709731Z",
     "shell.execute_reply": "2021-08-23T12:32:10.710338Z",
     "shell.execute_reply.started": "2021-08-23T10:47:04.279033Z"
    },
    "papermill": {
     "duration": 15.265435,
     "end_time": "2021-08-23T12:32:10.710534",
     "exception": false,
     "start_time": "2021-08-23T12:31:55.445099",
     "status": "completed"
    },
    "tags": []
   },
   "outputs": [
    {
     "name": "stdout",
     "output_type": "stream",
     "text": [
      "Extracting the data from dataset...\n",
      "2 files found in the input directory\n",
      "Unzipping test1.zip\n",
      "Done\n",
      "Unzipping train.zip\n",
      "Done\n"
     ]
    }
   ],
   "source": [
    "if os.environ.get('KAGGLE_KERNEL_RUN_TYPE', None):\n",
    "    from glob import glob\n",
    "    from zipfile import ZipFile\n",
    "    print('Extracting the data from dataset...')\n",
    "    zip_files = glob('/kaggle/input/dogs-vs-cats/*.zip')\n",
    "    print(f'{len(zip_files)} files found in the input directory')\n",
    "    for file in zip_files:\n",
    "        print(f\"Unzipping {file.split('/')[-1]}\")\n",
    "        with ZipFile(file, 'r') as Z:\n",
    "            Z.extractall('data')\n",
    "        print(\"Done\")\n",
    "    BASE_DATA_DIR = '/kaggle/working/data'\n",
    "    TRAIN_DIR = abspath_join(BASE_DATA_DIR, \"train\")\n",
    "    TEST_DIR = abspath_join(BASE_DATA_DIR, \"test1\")"
   ]
  },
  {
   "cell_type": "code",
   "execution_count": 4,
   "id": "35806f59",
   "metadata": {
    "execution": {
     "iopub.execute_input": "2021-08-23T12:32:10.743920Z",
     "iopub.status.busy": "2021-08-23T12:32:10.743176Z",
     "iopub.status.idle": "2021-08-23T12:32:10.784245Z",
     "shell.execute_reply": "2021-08-23T12:32:10.784657Z",
     "shell.execute_reply.started": "2021-08-23T10:47:21.858721Z"
    },
    "id": "zif4Op3cLxu1",
    "outputId": "d3433cb9-8c86-40a4-8a6b-8df1027d1ebb",
    "papermill": {
     "duration": 0.059679,
     "end_time": "2021-08-23T12:32:10.784780",
     "exception": false,
     "start_time": "2021-08-23T12:32:10.725101",
     "status": "completed"
    },
    "tags": []
   },
   "outputs": [
    {
     "data": {
      "text/plain": [
       "25000"
      ]
     },
     "execution_count": 4,
     "metadata": {},
     "output_type": "execute_result"
    }
   ],
   "source": [
    "train_set = os.listdir(TRAIN_DIR)\n",
    "types = [filename.split(\".\")[0] for filename in train_set]\n",
    "df = pd.DataFrame({\"filename\": train_set, \"class\": types})\n",
    "\n",
    "train_df, val_df = model_selection.train_test_split(df, test_size=VALIDATION_SIZE)\n",
    "\n",
    "TOTAL_TRAIN = train_df.shape[0]\n",
    "TOTAL_VAL = val_df.shape[0]\n",
    "\n",
    "len(train_set)"
   ]
  },
  {
   "cell_type": "markdown",
   "id": "d6f583cb",
   "metadata": {
    "id": "1tZF3Tt6Lxu1",
    "papermill": {
     "duration": 0.013581,
     "end_time": "2021-08-23T12:32:10.812080",
     "exception": false,
     "start_time": "2021-08-23T12:32:10.798499",
     "status": "completed"
    },
    "tags": []
   },
   "source": [
    "## Some samples"
   ]
  },
  {
   "cell_type": "code",
   "execution_count": 5,
   "id": "66361047",
   "metadata": {
    "execution": {
     "iopub.execute_input": "2021-08-23T12:32:10.854866Z",
     "iopub.status.busy": "2021-08-23T12:32:10.851897Z",
     "iopub.status.idle": "2021-08-23T12:32:10.857449Z",
     "shell.execute_reply": "2021-08-23T12:32:10.857902Z",
     "shell.execute_reply.started": "2021-08-23T10:47:21.905659Z"
    },
    "id": "VyjkQScgLxu2",
    "outputId": "6838f801-181d-4159-9784-c73738e614e1",
    "papermill": {
     "duration": 0.03213,
     "end_time": "2021-08-23T12:32:10.858017",
     "exception": false,
     "start_time": "2021-08-23T12:32:10.825887",
     "status": "completed"
    },
    "tags": []
   },
   "outputs": [
    {
     "data": {
      "text/plain": [
       "cat    12500\n",
       "dog    12500\n",
       "Name: class, dtype: int64"
      ]
     },
     "execution_count": 5,
     "metadata": {},
     "output_type": "execute_result"
    }
   ],
   "source": [
    "df[\"class\"].value_counts() #.rename({v: k for k, v in TYPE.items()})\n"
   ]
  },
  {
   "cell_type": "code",
   "execution_count": 6,
   "id": "9406e645",
   "metadata": {
    "execution": {
     "iopub.execute_input": "2021-08-23T12:32:10.896236Z",
     "iopub.status.busy": "2021-08-23T12:32:10.889255Z",
     "iopub.status.idle": "2021-08-23T12:32:10.901746Z",
     "shell.execute_reply": "2021-08-23T12:32:10.901171Z",
     "shell.execute_reply.started": "2021-08-23T10:47:21.925431Z"
    },
    "id": "_e3pKt6XLxu2",
    "outputId": "da3063d0-ca16-4293-b637-650a68bd94f5",
    "papermill": {
     "duration": 0.029936,
     "end_time": "2021-08-23T12:32:10.901883",
     "exception": false,
     "start_time": "2021-08-23T12:32:10.871947",
     "status": "completed"
    },
    "tags": []
   },
   "outputs": [
    {
     "name": "stdout",
     "output_type": "stream",
     "text": [
      "Training: 20000\n"
     ]
    },
    {
     "data": {
      "text/plain": [
       "dog    10057\n",
       "cat     9943\n",
       "Name: class, dtype: int64"
      ]
     },
     "execution_count": 6,
     "metadata": {},
     "output_type": "execute_result"
    }
   ],
   "source": [
    "print(f\"Training: {len(train_df)}\")\n",
    "train_df.reset_index(drop=True)[\"class\"].value_counts()\n"
   ]
  },
  {
   "cell_type": "code",
   "execution_count": 7,
   "id": "142fe998",
   "metadata": {
    "execution": {
     "iopub.execute_input": "2021-08-23T12:32:10.939088Z",
     "iopub.status.busy": "2021-08-23T12:32:10.938544Z",
     "iopub.status.idle": "2021-08-23T12:32:10.945488Z",
     "shell.execute_reply": "2021-08-23T12:32:10.945035Z",
     "shell.execute_reply.started": "2021-08-23T10:47:21.941671Z"
    },
    "id": "fZAx7Bm6Lxu3",
    "outputId": "fbd2b23a-9fee-4911-f760-e236b5fc489d",
    "papermill": {
     "duration": 0.028363,
     "end_time": "2021-08-23T12:32:10.945606",
     "exception": false,
     "start_time": "2021-08-23T12:32:10.917243",
     "status": "completed"
    },
    "tags": []
   },
   "outputs": [
    {
     "name": "stdout",
     "output_type": "stream",
     "text": [
      "Validation: 5000\n"
     ]
    },
    {
     "data": {
      "text/plain": [
       "cat    2557\n",
       "dog    2443\n",
       "Name: class, dtype: int64"
      ]
     },
     "execution_count": 7,
     "metadata": {},
     "output_type": "execute_result"
    }
   ],
   "source": [
    "print(f\"Validation: {len(val_df)}\")\n",
    "val_df.reset_index(drop=True)[\"class\"].value_counts()"
   ]
  },
  {
   "cell_type": "markdown",
   "id": "ae94e5f9",
   "metadata": {
    "id": "bUuNevnLLxu3",
    "papermill": {
     "duration": 0.014846,
     "end_time": "2021-08-23T12:32:10.976452",
     "exception": false,
     "start_time": "2021-08-23T12:32:10.961606",
     "status": "completed"
    },
    "tags": []
   },
   "source": [
    "# Build Model"
   ]
  },
  {
   "cell_type": "code",
   "execution_count": 8,
   "id": "293b7225",
   "metadata": {
    "execution": {
     "iopub.execute_input": "2021-08-23T12:32:11.014177Z",
     "iopub.status.busy": "2021-08-23T12:32:11.013657Z",
     "iopub.status.idle": "2021-08-23T12:32:17.392853Z",
     "shell.execute_reply": "2021-08-23T12:32:17.393406Z",
     "shell.execute_reply.started": "2021-08-23T10:47:21.955085Z"
    },
    "id": "fX-hMLOMLxu4",
    "outputId": "52c54499-9f0d-4346-d3a1-1fd373d1387f",
    "papermill": {
     "duration": 6.40208,
     "end_time": "2021-08-23T12:32:17.393624",
     "exception": false,
     "start_time": "2021-08-23T12:32:10.991544",
     "status": "completed"
    },
    "tags": []
   },
   "outputs": [
    {
     "name": "stdout",
     "output_type": "stream",
     "text": [
      "Model: \"model\"\n",
      "_________________________________________________________________\n",
      "Layer (type)                 Output Shape              Param #   \n",
      "=================================================================\n",
      "input_1 (InputLayer)         [(None, 128, 128, 3)]     0         \n",
      "_________________________________________________________________\n",
      "conv2d (Conv2D)              (None, 126, 126, 16)      448       \n",
      "_________________________________________________________________\n",
      "max_pooling2d (MaxPooling2D) (None, 63, 63, 16)        0         \n",
      "_________________________________________________________________\n",
      "conv2d_1 (Conv2D)            (None, 61, 61, 32)        4640      \n",
      "_________________________________________________________________\n",
      "max_pooling2d_1 (MaxPooling2 (None, 30, 30, 32)        0         \n",
      "_________________________________________________________________\n",
      "conv2d_2 (Conv2D)            (None, 28, 28, 64)        18496     \n",
      "_________________________________________________________________\n",
      "max_pooling2d_2 (MaxPooling2 (None, 14, 14, 64)        0         \n",
      "_________________________________________________________________\n",
      "flatten (Flatten)            (None, 12544)             0         \n",
      "_________________________________________________________________\n",
      "dense (Dense)                (None, 512)               6423040   \n",
      "_________________________________________________________________\n",
      "dense_1 (Dense)              (None, 1)                 513       \n",
      "=================================================================\n",
      "Total params: 6,447,137\n",
      "Trainable params: 6,447,137\n",
      "Non-trainable params: 0\n",
      "_________________________________________________________________\n"
     ]
    }
   ],
   "source": [
    "from tensorflow.keras import models, layers, losses\n",
    "\n",
    "# https://www.tensorflow.org/guide/keras/functional\n",
    "img_input = layers.Input(shape=IMG_SHAPE)\n",
    "\n",
    "# First convolution extracts 16 filters that are 3x3\n",
    "# Convolution is followed by max-pooling layer with a 2x2 window\n",
    "x = layers.Conv2D(16, (3, 3), activation=\"relu\")(img_input)\n",
    "x = layers.MaxPool2D((2, 2))(x)  # Stack layer\n",
    "\n",
    "# Same as previous convolution but with 32 filters\n",
    "x = layers.Conv2D(32, (3, 3), activation=\"relu\")(x)\n",
    "x = layers.MaxPooling2D((2, 2))(x)\n",
    "\n",
    "# Same as previous convolution but with 64 filters\n",
    "x = layers.Conv2D(64, (3, 3), activation=\"relu\")(x)\n",
    "x = layers.MaxPooling2D((2, 2))(x)\n",
    "\n",
    "# Flatten feature map to a 1-dim tensor so we can add fully connected layers\n",
    "x = layers.Flatten()(x)\n",
    "\n",
    "# Create a fully connected layer with ReLU activation and 512 hidden units\n",
    "x = layers.Dense(512, activation=\"relu\")(x)\n",
    "\n",
    "# Create output layer with a single node and sigmoid activation\n",
    "output = layers.Dense(1, activation=\"sigmoid\")(x)\n",
    "\n",
    "# Create model:\n",
    "# input = input feature map\n",
    "# output = input feature map + stacked convolution/maxpooling layers + fully\n",
    "# connected layer + sigmoid output layer\n",
    "model = models.Model(img_input, output)\n",
    "\n",
    "model.compile(loss=\"binary_crossentropy\", metrics=[\"accuracy\"])\n",
    "\n",
    "model.summary()\n"
   ]
  },
  {
   "cell_type": "markdown",
   "id": "2172c714",
   "metadata": {
    "id": "92XTsJypLxu4",
    "papermill": {
     "duration": 0.015244,
     "end_time": "2021-08-23T12:32:17.425566",
     "exception": false,
     "start_time": "2021-08-23T12:32:17.410322",
     "status": "completed"
    },
    "tags": []
   },
   "source": [
    "# Data Preprocessing"
   ]
  },
  {
   "cell_type": "code",
   "execution_count": 9,
   "id": "6bbf11fd",
   "metadata": {
    "execution": {
     "iopub.execute_input": "2021-08-23T12:32:17.483510Z",
     "iopub.status.busy": "2021-08-23T12:32:17.462509Z",
     "iopub.status.idle": "2021-08-23T12:32:17.719227Z",
     "shell.execute_reply": "2021-08-23T12:32:17.720055Z",
     "shell.execute_reply.started": "2021-08-23T10:47:29.502956Z"
    },
    "id": "sO73kQrnLxu5",
    "outputId": "f4037444-fc7f-4e6c-a8fd-b27fd5771018",
    "papermill": {
     "duration": 0.279312,
     "end_time": "2021-08-23T12:32:17.720245",
     "exception": false,
     "start_time": "2021-08-23T12:32:17.440933",
     "status": "completed"
    },
    "tags": []
   },
   "outputs": [
    {
     "name": "stdout",
     "output_type": "stream",
     "text": [
      "Found 20000 validated image filenames belonging to 2 classes.\n",
      "Found 5000 validated image filenames belonging to 2 classes.\n"
     ]
    }
   ],
   "source": [
    "from tensorflow.keras.preprocessing.image import ImageDataGenerator\n",
    "\n",
    "GEN_PARAMS = {\n",
    "    \"directory\": TRAIN_DIR,\n",
    "    \"target_size\": IMG_SIZE,\n",
    "    \"batch_size\": BATCH_SIZE,\n",
    "    \"class_mode\": \"binary\",\n",
    "}\n",
    "\n",
    "train_datagen = ImageDataGenerator(rescale=1.0 / 255)\n",
    "val_datagen = ImageDataGenerator(rescale=1.0 / 255)\n",
    "\n",
    "train_gen = train_datagen.flow_from_dataframe(train_df, **GEN_PARAMS)\n",
    "val_gen = val_datagen.flow_from_dataframe(val_df, **GEN_PARAMS)\n"
   ]
  },
  {
   "cell_type": "markdown",
   "id": "bf4ef757",
   "metadata": {
    "id": "ObwZdZncLxu5",
    "papermill": {
     "duration": 0.015902,
     "end_time": "2021-08-23T12:32:17.752686",
     "exception": false,
     "start_time": "2021-08-23T12:32:17.736784",
     "status": "completed"
    },
    "tags": []
   },
   "source": [
    "# Training"
   ]
  },
  {
   "cell_type": "code",
   "execution_count": 10,
   "id": "cb9344af",
   "metadata": {
    "execution": {
     "iopub.execute_input": "2021-08-23T12:32:17.788186Z",
     "iopub.status.busy": "2021-08-23T12:32:17.787670Z",
     "iopub.status.idle": "2021-08-23T12:43:32.235898Z",
     "shell.execute_reply": "2021-08-23T12:43:32.236604Z",
     "shell.execute_reply.started": "2021-08-23T10:47:29.813273Z"
    },
    "id": "hRHHb2-FLxu5",
    "papermill": {
     "duration": 674.468465,
     "end_time": "2021-08-23T12:43:32.236816",
     "exception": false,
     "start_time": "2021-08-23T12:32:17.768351",
     "status": "completed"
    },
    "tags": []
   },
   "outputs": [
    {
     "name": "stdout",
     "output_type": "stream",
     "text": [
      "Epoch 1/10\n",
      "1000/1000 [==============================] - 73s 66ms/step - loss: 0.6949 - accuracy: 0.6223 - val_loss: 0.4801 - val_accuracy: 0.7660\n",
      "Epoch 2/10\n",
      "1000/1000 [==============================] - 65s 65ms/step - loss: 0.4764 - accuracy: 0.7700 - val_loss: 0.4435 - val_accuracy: 0.8012\n",
      "Epoch 3/10\n",
      "1000/1000 [==============================] - 66s 66ms/step - loss: 0.4051 - accuracy: 0.8190 - val_loss: 0.4494 - val_accuracy: 0.7954\n",
      "Epoch 4/10\n",
      "1000/1000 [==============================] - 66s 66ms/step - loss: 0.3671 - accuracy: 0.8388 - val_loss: 0.4045 - val_accuracy: 0.8284\n",
      "Epoch 5/10\n",
      "1000/1000 [==============================] - 67s 67ms/step - loss: 0.3346 - accuracy: 0.8597 - val_loss: 0.4511 - val_accuracy: 0.8160\n",
      "Epoch 6/10\n",
      "1000/1000 [==============================] - 66s 66ms/step - loss: 0.3090 - accuracy: 0.8722 - val_loss: 0.4289 - val_accuracy: 0.8336\n",
      "Epoch 7/10\n",
      "1000/1000 [==============================] - 66s 66ms/step - loss: 0.2828 - accuracy: 0.8864 - val_loss: 0.6024 - val_accuracy: 0.8010\n",
      "Epoch 8/10\n",
      "1000/1000 [==============================] - 67s 67ms/step - loss: 0.2658 - accuracy: 0.8935 - val_loss: 0.5270 - val_accuracy: 0.8256\n",
      "Epoch 9/10\n",
      "1000/1000 [==============================] - 67s 67ms/step - loss: 0.2436 - accuracy: 0.9064 - val_loss: 0.4368 - val_accuracy: 0.8246\n",
      "Epoch 10/10\n",
      "1000/1000 [==============================] - 68s 68ms/step - loss: 0.2426 - accuracy: 0.9088 - val_loss: 0.4265 - val_accuracy: 0.8436\n"
     ]
    }
   ],
   "source": [
    "history = model.fit(\n",
    "    train_gen,\n",
    "    epochs=EPOCHS,\n",
    "    validation_data=val_gen,\n",
    "    validation_steps=TOTAL_VAL // BATCH_SIZE,\n",
    "    steps_per_epoch=TOTAL_TRAIN // BATCH_SIZE,\n",
    ")\n"
   ]
  },
  {
   "cell_type": "markdown",
   "id": "dc7dfec9",
   "metadata": {
    "papermill": {
     "duration": 1.947838,
     "end_time": "2021-08-23T12:43:36.138455",
     "exception": false,
     "start_time": "2021-08-23T12:43:34.190617",
     "status": "completed"
    },
    "tags": []
   },
   "source": [
    "## Save Model"
   ]
  },
  {
   "cell_type": "code",
   "execution_count": 11,
   "id": "4564136a",
   "metadata": {
    "execution": {
     "iopub.execute_input": "2021-08-23T12:43:40.089960Z",
     "iopub.status.busy": "2021-08-23T12:43:40.089287Z",
     "iopub.status.idle": "2021-08-23T12:43:40.193755Z",
     "shell.execute_reply": "2021-08-23T12:43:40.193194Z",
     "shell.execute_reply.started": "2021-08-23T11:01:01.340268Z"
    },
    "papermill": {
     "duration": 2.076535,
     "end_time": "2021-08-23T12:43:40.193888",
     "exception": false,
     "start_time": "2021-08-23T12:43:38.117353",
     "status": "completed"
    },
    "tags": []
   },
   "outputs": [],
   "source": [
    "model.save_weights(\"model.v1\")"
   ]
  },
  {
   "cell_type": "markdown",
   "id": "c8f52afb",
   "metadata": {
    "papermill": {
     "duration": 1.99764,
     "end_time": "2021-08-23T12:43:44.381332",
     "exception": false,
     "start_time": "2021-08-23T12:43:42.383692",
     "status": "completed"
    },
    "tags": []
   },
   "source": [
    "## Virtualize Training"
   ]
  },
  {
   "cell_type": "code",
   "execution_count": 12,
   "id": "c68a82f0",
   "metadata": {
    "execution": {
     "iopub.execute_input": "2021-08-23T12:43:48.369695Z",
     "iopub.status.busy": "2021-08-23T12:43:48.368876Z",
     "iopub.status.idle": "2021-08-23T12:43:48.713525Z",
     "shell.execute_reply": "2021-08-23T12:43:48.713080Z",
     "shell.execute_reply.started": "2021-08-23T11:03:30.04485Z"
    },
    "papermill": {
     "duration": 2.324461,
     "end_time": "2021-08-23T12:43:48.713665",
     "exception": false,
     "start_time": "2021-08-23T12:43:46.389204",
     "status": "completed"
    },
    "tags": []
   },
   "outputs": [
    {
     "data": {
      "image/png": "[encoded data removed]",
      "text/plain": [
       "<Figure size 864x864 with 2 Axes>"
      ]
     },
     "metadata": {
      "needs_background": "light"
     },
     "output_type": "display_data"
    }
   ],
   "source": [
    "fig, (ax1, ax2) = plt.subplots(2, 1, figsize=(12, 12))\n",
    "ax1.plot(history.history['loss'], color='b', label=\"Training loss\")\n",
    "ax1.plot(history.history['val_loss'], color='r', label=\"validation loss\")\n",
    "ax1.set_xticks(np.arange(1, EPOCHS, 1))\n",
    "ax1.set_yticks(np.arange(0, 1, 0.1))\n",
    "\n",
    "ax2.plot(history.history['accuracy'], color='b', label=\"Training accuracy\")\n",
    "ax2.plot(history.history['val_accuracy'], color='r',label=\"Validation accuracy\")\n",
    "ax2.set_xticks(np.arange(1, EPOCHS, 1))\n",
    "\n",
    "legend = plt.legend(loc='best', shadow=True)\n",
    "plt.tight_layout()\n",
    "plt.show()"
   ]
  }
 ],
 "metadata": {
  "kernelspec": {
   "display_name": "Python 3",
   "language": "python",
   "name": "python3"
  },
  "language_info": {
   "codemirror_mode": {
    "name": "ipython",
    "version": 3
   },
   "file_extension": ".py",
   "mimetype": "text/x-python",
   "name": "python",
   "nbconvert_exporter": "python",
   "pygments_lexer": "ipython3",
   "version": "3.7.10"
  },
  "papermill": {
   "default_parameters": {},
   "duration": 725.227507,
   "end_time": "2021-08-23T12:43:52.950286",
   "environment_variables": {},
   "exception": null,
   "input_path": "__notebook__.ipynb",
   "output_path": "__notebook__.ipynb",
   "parameters": {},
   "start_time": "2021-08-23T12:31:47.722779",
   "version": "2.3.3"
  }
 },
 "nbformat": 4,
 "nbformat_minor": 5
}
