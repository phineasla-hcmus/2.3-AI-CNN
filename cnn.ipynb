{
  "nbformat": 4,
  "nbformat_minor": 0,
  "metadata": {
    "orig_nbformat": 4,
    "language_info": {
      "name": "python",
      "version": "3.9.5",
      "mimetype": "text/x-python",
      "codemirror_mode": {
        "name": "ipython",
        "version": 3
      },
      "pygments_lexer": "ipython3",
      "nbconvert_exporter": "python",
      "file_extension": ".py"
    },
    "kernelspec": {
      "name": "python3",
      "display_name": "Python 3.9.5 64-bit"
    },
    "interpreter": {
      "hash": "6c15f6a172f14a639408d21adc440d737f2d15e0e519ed795812a3f754ed02f5"
    },
    "colab": {
      "name": "cnn.ipynb",
      "provenance": []
    }
  },
  "cells": [
    {
      "cell_type": "markdown",
      "metadata": {
        "id": "YYTd9J7sLxuz"
      },
      "source": [
        "# Imports and Constants"
      ]
    },
    {
      "cell_type": "code",
      "metadata": {
        "id": "S9zD7LLDLxu0"
      },
      "source": [
        "import os\n",
        "import random\n",
        "import numpy as np\n",
        "import pandas as pd\n",
        "from sklearn import model_selection\n",
        "from matplotlib import pyplot as plt\n",
        "\n",
        "import PIL\n",
        "# https://github.com/tensorflow/tensorflow/issues/46840\n",
        "# https://stackoverflow.com/a/68239032/12405558\n",
        "if PIL.__version__ == \"8.3.0\":\n",
        "    raise ImportError(f\"PIL 8.3.0 is incompatible with tensorflow 2.6.0\")\n",
        "\n",
        "BASE_DATA_DIR = \"/data\"\n",
        "TRAIN_DIR = os.path.join(BASE_DATA_DIR, \"train\")\n",
        "TEST_DIR = os.path.join(BASE_DATA_DIR, \"test\")\n",
        "\n",
        "IMG_WIDTH = 128\n",
        "IMG_HEIGHT = 128\n",
        "IMG_CHANNEL = 3\n",
        "IMG_SIZE = (IMG_WIDTH, IMG_HEIGHT)\n",
        "IMG_SHAPE = (IMG_WIDTH, IMG_HEIGHT, IMG_CHANNEL)\n",
        "\n",
        "# Split training into training and validation dataset\n",
        "VALIDATION_SIZE = 0.2\n",
        "\n",
        "BATCH_SIZE = 20\n",
        "EPOCHS = 10\n",
        "\n",
        "TYPE = {\"cat\": 0, \"dog\": 1}\n"
      ],
      "execution_count": 1,
      "outputs": []
    },
    {
      "cell_type": "markdown",
      "metadata": {
        "id": "olZh5ccyYSXs"
      },
      "source": [
        "# Setup for Google Colab"
      ]
    },
    {
      "cell_type": "code",
      "metadata": {
        "id": "EPYAUk3HYXr4",
        "colab": {
          "base_uri": "https://localhost:8080/"
        },
        "outputId": "7910ad6d-2055-45db-812d-5aba3ad6622c"
      },
      "source": [
        "try:\n",
        "    from google.colab import drive\n",
        "    from zipfile import ZipFile\n",
        "\n",
        "    abspath_join = lambda a, *p: os.path.abspath(os.path.join(a, *p))\n",
        "    MOUNT = \"/content/drive\"\n",
        "    drive.mount(MOUNT, force_remount=True)\n",
        "\n",
        "    BASE_DATA_DIR = abspath_join(MOUNT, \"MyDrive/AI/data\")\n",
        "    TRAIN_DIR = abspath_join(BASE_DATA_DIR, \"train\")\n",
        "    TEST_DIR = abspath_join(BASE_DATA_DIR, \"test1\")\n",
        "    for zip_name in (\"test1.zip\",\"train.zip\"):\n",
        "        try:\n",
        "            zip_dir = abspath_join(BASE_DATA_DIR, zip_name)\n",
        "            # with ZipFile(zip_dir, \"r\") as zip_ref:\n",
        "            #     print(f\"Unzipping {zip_name}\")\n",
        "            #     zip_ref.extractall(BASE_DATA_DIR)\n",
        "            # os.remove(zip_dir)\n",
        "        except:\n",
        "            print(f\"{zip_name} not found\")\n",
        "except ImportError:\n",
        "    pass"
      ],
      "execution_count": 2,
      "outputs": [
        {
          "output_type": "stream",
          "text": [
            "Mounted at /content/drive\n",
            "Unzipping test1.zip\n",
            "Unzipping train.zip\n"
          ],
          "name": "stdout"
        }
      ]
    },
    {
      "cell_type": "markdown",
      "metadata": {
        "id": "x9kqQ3DILxu0"
      },
      "source": [
        "# Prepare Training Data"
      ]
    },
    {
      "cell_type": "code",
      "metadata": {
        "id": "zif4Op3cLxu1",
        "outputId": "3c4be4a2-84ee-4747-b145-b32a5f61e3a7",
        "colab": {
          "base_uri": "https://localhost:8080/"
        }
      },
      "source": [
        "train_set = os.listdir(TRAIN_DIR)\n",
        "types = [filename.split(\".\")[0] for filename in train_set]\n",
        "df = pd.DataFrame({\"filename\": train_set, \"class\": types})\n",
        "\n",
        "train_df, val_df = model_selection.train_test_split(df, test_size=VALIDATION_SIZE)\n",
        "\n",
        "TOTAL_TRAIN = train_df.shape[0]\n",
        "TOTAL_VAL = val_df.shape[0]"
      ],
      "execution_count": 12,
      "outputs": [
        {
          "output_type": "execute_result",
          "data": {
            "text/plain": [
              "12500"
            ]
          },
          "metadata": {},
          "execution_count": 12
        }
      ]
    },
    {
      "cell_type": "markdown",
      "metadata": {
        "id": "1tZF3Tt6Lxu1"
      },
      "source": [
        "## Some samples"
      ]
    },
    {
      "cell_type": "code",
      "metadata": {
        "id": "VyjkQScgLxu2",
        "colab": {
          "base_uri": "https://localhost:8080/"
        },
        "outputId": "67778539-d424-4bc7-fd49-61efc6b232ac"
      },
      "source": [
        "df[\"class\"].value_counts() #.rename({v: k for k, v in TYPE.items()})\n"
      ],
      "execution_count": 10,
      "outputs": [
        {
          "output_type": "execute_result",
          "data": {
            "text/plain": [
              "cat    12500\n",
              "dog    12500\n",
              "Name: class, dtype: int64"
            ]
          },
          "metadata": {},
          "execution_count": 10
        }
      ]
    },
    {
      "cell_type": "code",
      "metadata": {
        "id": "_e3pKt6XLxu2",
        "colab": {
          "base_uri": "https://localhost:8080/"
        },
        "outputId": "2ca25ddf-63c9-48dd-e8da-99de93b23e18"
      },
      "source": [
        "print(f\"Training: {len(train_df)}\")\n",
        "train_df.reset_index(drop=True)[\"class\"].value_counts()\n"
      ],
      "execution_count": 5,
      "outputs": [
        {
          "output_type": "stream",
          "text": [
            "Training: 20000\n"
          ],
          "name": "stdout"
        },
        {
          "output_type": "execute_result",
          "data": {
            "text/plain": [
              "dog    10057\n",
              "cat     9943\n",
              "Name: class, dtype: int64"
            ]
          },
          "metadata": {},
          "execution_count": 5
        }
      ]
    },
    {
      "cell_type": "code",
      "metadata": {
        "id": "fZAx7Bm6Lxu3",
        "colab": {
          "base_uri": "https://localhost:8080/"
        },
        "outputId": "8d820db3-5e84-4fcb-e52d-f1bfe0849fe4"
      },
      "source": [
        "print(f\"Validation: {len(val_df)}\")\n",
        "val_df.reset_index(drop=True)[\"class\"].value_counts()"
      ],
      "execution_count": 6,
      "outputs": [
        {
          "output_type": "stream",
          "text": [
            "Validation: 5000\n"
          ],
          "name": "stdout"
        },
        {
          "output_type": "execute_result",
          "data": {
            "text/plain": [
              "cat    2557\n",
              "dog    2443\n",
              "Name: class, dtype: int64"
            ]
          },
          "metadata": {},
          "execution_count": 6
        }
      ]
    },
    {
      "cell_type": "markdown",
      "metadata": {
        "id": "bUuNevnLLxu3"
      },
      "source": [
        "# Build Model"
      ]
    },
    {
      "cell_type": "code",
      "metadata": {
        "id": "fX-hMLOMLxu4",
        "outputId": "a1161aac-d120-4265-f0f3-f7f62b9ea84f",
        "colab": {
          "base_uri": "https://localhost:8080/"
        }
      },
      "source": [
        "from tensorflow.keras import models, layers, losses\n",
        "\n",
        "# https://www.tensorflow.org/guide/keras/functional\n",
        "img_input = layers.Input(shape=IMG_SHAPE)\n",
        "\n",
        "# First convolution extracts 16 filters that are 3x3\n",
        "# Convolution is followed by max-pooling layer with a 2x2 window\n",
        "x = layers.Conv2D(16, (3, 3), activation=\"relu\")(img_input)\n",
        "x = layers.MaxPool2D((2, 2))(x)  # Stack layer\n",
        "\n",
        "# Same as previous convolution but with 32 filters\n",
        "x = layers.Conv2D(32, (3, 3), activation=\"relu\")(x)\n",
        "x = layers.MaxPooling2D((2, 2))(x)\n",
        "\n",
        "# Same as previous convolution but with 64 filters\n",
        "x = layers.Conv2D(64, (3, 3), activation=\"relu\")(x)\n",
        "x = layers.MaxPooling2D((2, 2))(x)\n",
        "\n",
        "# Flatten feature map to a 1-dim tensor so we can add fully connected layers\n",
        "x = layers.Flatten()(x)\n",
        "\n",
        "# Create a fully connected layer with ReLU activation and 512 hidden units\n",
        "x = layers.Dense(512, activation=\"relu\")(x)\n",
        "\n",
        "# Create output layer with a single node and sigmoid activation\n",
        "output = layers.Dense(1, activation=\"sigmoid\")(x)\n",
        "\n",
        "# Create model:\n",
        "# input = input feature map\n",
        "# output = input feature map + stacked convolution/maxpooling layers + fully\n",
        "# connected layer + sigmoid output layer\n",
        "model = models.Model(img_input, output)\n",
        "\n",
        "model.compile(loss=\"binary_crossentropy\", metrics=[\"accuracy\"])\n",
        "\n",
        "model.summary()\n"
      ],
      "execution_count": 13,
      "outputs": [
        {
          "output_type": "stream",
          "text": [
            "Model: \"model\"\n",
            "_________________________________________________________________\n",
            "Layer (type)                 Output Shape              Param #   \n",
            "=================================================================\n",
            "input_1 (InputLayer)         [(None, 128, 128, 3)]     0         \n",
            "_________________________________________________________________\n",
            "conv2d (Conv2D)              (None, 126, 126, 16)      448       \n",
            "_________________________________________________________________\n",
            "max_pooling2d (MaxPooling2D) (None, 63, 63, 16)        0         \n",
            "_________________________________________________________________\n",
            "conv2d_1 (Conv2D)            (None, 61, 61, 32)        4640      \n",
            "_________________________________________________________________\n",
            "max_pooling2d_1 (MaxPooling2 (None, 30, 30, 32)        0         \n",
            "_________________________________________________________________\n",
            "conv2d_2 (Conv2D)            (None, 28, 28, 64)        18496     \n",
            "_________________________________________________________________\n",
            "max_pooling2d_2 (MaxPooling2 (None, 14, 14, 64)        0         \n",
            "_________________________________________________________________\n",
            "flatten (Flatten)            (None, 12544)             0         \n",
            "_________________________________________________________________\n",
            "dense (Dense)                (None, 512)               6423040   \n",
            "_________________________________________________________________\n",
            "dense_1 (Dense)              (None, 1)                 513       \n",
            "=================================================================\n",
            "Total params: 6,447,137\n",
            "Trainable params: 6,447,137\n",
            "Non-trainable params: 0\n",
            "_________________________________________________________________\n"
          ],
          "name": "stdout"
        }
      ]
    },
    {
      "cell_type": "markdown",
      "metadata": {
        "id": "92XTsJypLxu4"
      },
      "source": [
        "# Data Preprocessing"
      ]
    },
    {
      "cell_type": "code",
      "metadata": {
        "id": "sO73kQrnLxu5",
        "outputId": "d695e0cc-2f3d-4089-b772-4a37fb493542",
        "colab": {
          "base_uri": "https://localhost:8080/"
        }
      },
      "source": [
        "from tensorflow.keras.preprocessing.image import ImageDataGenerator\n",
        "\n",
        "GEN_PARAMS = {\n",
        "    \"directory\": TRAIN_DIR,\n",
        "    \"target_size\": IMG_SIZE,\n",
        "    \"batch_size\": BATCH_SIZE,\n",
        "    \"class_mode\": \"binary\",\n",
        "}\n",
        "\n",
        "train_datagen = ImageDataGenerator(rescale=1.0 / 255)\n",
        "val_datagen = ImageDataGenerator(rescale=1.0 / 255)\n",
        "\n",
        "train_gen = train_datagen.flow_from_dataframe(train_df, **GEN_PARAMS)\n",
        "val_gen = val_datagen.flow_from_dataframe(val_df, **GEN_PARAMS)\n"
      ],
      "execution_count": 14,
      "outputs": [
        {
          "output_type": "stream",
          "text": [
            "Found 20000 validated image filenames belonging to 2 classes.\n",
            "Found 5000 validated image filenames belonging to 2 classes.\n"
          ],
          "name": "stdout"
        }
      ]
    },
    {
      "cell_type": "markdown",
      "metadata": {
        "id": "ObwZdZncLxu5"
      },
      "source": [
        "# Training"
      ]
    },
    {
      "cell_type": "code",
      "metadata": {
        "id": "hRHHb2-FLxu5",
        "outputId": "b4e60a5d-5efb-4c7a-fb4d-1b5603e13a59",
        "colab": {
          "base_uri": "https://localhost:8080/"
        }
      },
      "source": [
        "history = model.fit(\n",
        "    train_gen,\n",
        "    epochs=EPOCHS,\n",
        "    validation_data=val_gen,\n",
        "    validation_steps=TOTAL_VAL // BATCH_SIZE,\n",
        "    steps_per_epoch=TOTAL_TRAIN // BATCH_SIZE,\n",
        ")\n"
      ],
      "execution_count": null,
      "outputs": [
        {
          "output_type": "stream",
          "text": [
            "Epoch 1/10\n",
            " 295/1000 [=======>......................] - ETA: 4:38 - loss: 0.6664 - accuracy: 0.6220"
          ],
          "name": "stdout"
        }
      ]
    }
  ]
}